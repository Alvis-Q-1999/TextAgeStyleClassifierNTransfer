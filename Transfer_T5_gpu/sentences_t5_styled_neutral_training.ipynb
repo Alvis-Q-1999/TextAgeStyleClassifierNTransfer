{
 "cells": [
  {
   "cell_type": "code",
   "execution_count": null,
   "id": "71eebf77",
   "metadata": {},
   "outputs": [],
   "source": [
    "# pip install torch transformers datasets sentencepiece scikit-learn pandas numpy evaluate accelerate\n"
   ]
  },
  {
   "cell_type": "code",
   "execution_count": 1,
   "id": "58b13a8f",
   "metadata": {},
   "outputs": [],
   "source": [
    "import pandas as pd\n",
    "import numpy as np\n",
    "from transformers import T5Tokenizer, T5ForConditionalGeneration, EarlyStoppingCallback\n",
    "from datasets import Dataset"
   ]
  },
  {
   "cell_type": "code",
   "execution_count": null,
   "id": "4cd75531",
   "metadata": {},
   "outputs": [],
   "source": [
    "sentences_train_io = pd.read_csv(\"sentences_train_io.csv\")\n",
    "sentences_test_io = pd.read_csv(\"sentences_test_io.csv\")\n",
    "sentences_valid_io = pd.read_csv(\"sentences_valid_io.csv\")"
   ]
  },
  {
   "cell_type": "code",
   "execution_count": null,
   "id": "6178a3a0",
   "metadata": {},
   "outputs": [],
   "source": [
    "def build_t5_style_removal_df(df):\n",
    "    t5_df = pd.DataFrame()\n",
    "    t5_df[\"input_text\"] = \"transfer from\" + df[\"persona.age\"] + \" to neutral style: \" + df[\"output.sentences\"]\n",
    "    t5_df[\"target_text\"] = df[\"input.sentences\"]\n",
    "    return t5_df.dropna()"
   ]
  },
  {
   "cell_type": "code",
   "execution_count": null,
   "id": "693552a4",
   "metadata": {},
   "outputs": [],
   "source": [
    "t5_sentences_train = build_t5_style_removal_df(sentences_train_io)\n",
    "t5_sentences_test = build_t5_style_removal_df(sentences_test_io)\n",
    "t5_sentences_valid = build_t5_style_removal_df(sentences_valid_io)"
   ]
  },
  {
   "cell_type": "code",
   "execution_count": 5,
   "id": "0880cc74",
   "metadata": {},
   "outputs": [
    {
     "data": {
      "text/html": [
       "<div>\n",
       "<style scoped>\n",
       "    .dataframe tbody tr th:only-of-type {\n",
       "        vertical-align: middle;\n",
       "    }\n",
       "\n",
       "    .dataframe tbody tr th {\n",
       "        vertical-align: top;\n",
       "    }\n",
       "\n",
       "    .dataframe thead th {\n",
       "        text-align: right;\n",
       "    }\n",
       "</style>\n",
       "<table border=\"1\" class=\"dataframe\">\n",
       "  <thead>\n",
       "    <tr style=\"text-align: right;\">\n",
       "      <th></th>\n",
       "      <th>input_text</th>\n",
       "      <th>target_text</th>\n",
       "    </tr>\n",
       "  </thead>\n",
       "  <tbody>\n",
       "    <tr>\n",
       "      <th>0</th>\n",
       "      <td>transfer to neutral style: He had a great time...</td>\n",
       "      <td>co-worker and i in the new office</td>\n",
       "    </tr>\n",
       "    <tr>\n",
       "      <th>1</th>\n",
       "      <td>transfer to neutral style: Top end it with a d...</td>\n",
       "      <td>even the carosuel was lit up .</td>\n",
       "    </tr>\n",
       "    <tr>\n",
       "      <th>2</th>\n",
       "      <td>transfer to neutral style: Look at all of this...</td>\n",
       "      <td>the food was amazing .</td>\n",
       "    </tr>\n",
       "    <tr>\n",
       "      <th>3</th>\n",
       "      <td>transfer to neutral style: I took a picture of...</td>\n",
       "      <td>this is a picture of a bike .</td>\n",
       "    </tr>\n",
       "    <tr>\n",
       "      <th>4</th>\n",
       "      <td>transfer to neutral style: We danced while we ...</td>\n",
       "      <td>she danced with her beer .</td>\n",
       "    </tr>\n",
       "  </tbody>\n",
       "</table>\n",
       "</div>"
      ],
      "text/plain": [
       "                                          input_text  \\\n",
       "0  transfer to neutral style: He had a great time...   \n",
       "1  transfer to neutral style: Top end it with a d...   \n",
       "2  transfer to neutral style: Look at all of this...   \n",
       "3  transfer to neutral style: I took a picture of...   \n",
       "4  transfer to neutral style: We danced while we ...   \n",
       "\n",
       "                         target_text  \n",
       "0  co-worker and i in the new office  \n",
       "1     even the carosuel was lit up .  \n",
       "2             the food was amazing .  \n",
       "3      this is a picture of a bike .  \n",
       "4         she danced with her beer .  "
      ]
     },
     "execution_count": 5,
     "metadata": {},
     "output_type": "execute_result"
    }
   ],
   "source": [
    "t5_sentences_train.head()"
   ]
  },
  {
   "cell_type": "code",
   "execution_count": 6,
   "id": "e01acb3f",
   "metadata": {},
   "outputs": [
    {
     "name": "stderr",
     "output_type": "stream",
     "text": [
      "You are using the default legacy behaviour of the <class 'transformers.models.t5.tokenization_t5.T5Tokenizer'>. This is expected, and simply means that the `legacy` (previous) behavior will be used so nothing changes for you. If you want to use the new behaviour, set `legacy=False`. This should only be set if you understand what it means, and thoroughly read the reason why this was added as explained in https://github.com/huggingface/transformers/pull/24565\n"
     ]
    }
   ],
   "source": [
    "tokenizer = T5Tokenizer.from_pretrained(\"t5-base\")\n",
    "# tokenizer = T5Tokenizer.from_pretrained(\"t5-small\")\n"
   ]
  },
  {
   "cell_type": "code",
   "execution_count": 7,
   "id": "8af268c6",
   "metadata": {},
   "outputs": [],
   "source": [
    "\n",
    "def build_t5_huggingface_ds(df, tokenizer):\n",
    "    def tokenize_batch(batch):\n",
    "        return tokenizer(batch[\"input_text\"], padding=\"max_length\", truncation=True, max_length=64)\n",
    "\n",
    "    def tokenize_target(batch):\n",
    "        with tokenizer.as_target_tokenizer():\n",
    "            tokenized = tokenizer(batch[\"target_text\"], padding=\"max_length\", truncation=True, max_length=64)\n",
    "        batch[\"labels\"] = tokenized[\"input_ids\"]\n",
    "        return batch\n",
    "\n",
    "    t5_ds = Dataset.from_pandas(df)\n",
    "    t5_ds = t5_ds.map(tokenize_batch, batched=True)\n",
    "    t5_ds = t5_ds.map(tokenize_target, batched=True)\n",
    "\n",
    "\n",
    "    t5_ds.set_format(type=\"torch\", columns=[\"input_ids\", \"attention_mask\", \"labels\"])\n",
    "\n",
    "    return t5_ds\n"
   ]
  },
  {
   "cell_type": "code",
   "execution_count": 8,
   "id": "2329cec2",
   "metadata": {},
   "outputs": [
    {
     "data": {
      "application/vnd.jupyter.widget-view+json": {
       "model_id": "b600b0814ff64852938b110269acab45",
       "version_major": 2,
       "version_minor": 0
      },
      "text/plain": [
       "Map:   0%|          | 0/31806 [00:00<?, ? examples/s]"
      ]
     },
     "metadata": {},
     "output_type": "display_data"
    },
    {
     "data": {
      "application/vnd.jupyter.widget-view+json": {
       "model_id": "117d89a3360746bdb9903af6ad2c1f54",
       "version_major": 2,
       "version_minor": 0
      },
      "text/plain": [
       "Map:   0%|          | 0/31806 [00:00<?, ? examples/s]"
      ]
     },
     "metadata": {},
     "output_type": "display_data"
    },
    {
     "name": "stderr",
     "output_type": "stream",
     "text": [
      "C:\\Users\\Alvis\\AppData\\Roaming\\Python\\Python312\\site-packages\\transformers\\tokenization_utils_base.py:3980: UserWarning: `as_target_tokenizer` is deprecated and will be removed in v5 of Transformers. You can tokenize your labels by using the argument `text_target` of the regular `__call__` method (either in the same call as your input texts if you use the same keyword arguments, or in a separate call.\n",
      "  warnings.warn(\n"
     ]
    },
    {
     "data": {
      "application/vnd.jupyter.widget-view+json": {
       "model_id": "60451caaa8764094a2ed6af1014f3a7b",
       "version_major": 2,
       "version_minor": 0
      },
      "text/plain": [
       "Map:   0%|          | 0/3982 [00:00<?, ? examples/s]"
      ]
     },
     "metadata": {},
     "output_type": "display_data"
    },
    {
     "data": {
      "application/vnd.jupyter.widget-view+json": {
       "model_id": "dc65afa1d7ac45df99d22cd7b5390df2",
       "version_major": 2,
       "version_minor": 0
      },
      "text/plain": [
       "Map:   0%|          | 0/3982 [00:00<?, ? examples/s]"
      ]
     },
     "metadata": {},
     "output_type": "display_data"
    },
    {
     "data": {
      "application/vnd.jupyter.widget-view+json": {
       "model_id": "f3700b8c740e449d94cd0f02115fd52b",
       "version_major": 2,
       "version_minor": 0
      },
      "text/plain": [
       "Map:   0%|          | 0/3990 [00:00<?, ? examples/s]"
      ]
     },
     "metadata": {},
     "output_type": "display_data"
    },
    {
     "data": {
      "application/vnd.jupyter.widget-view+json": {
       "model_id": "0390dd6391da4fc9b09c9b2e88053c55",
       "version_major": 2,
       "version_minor": 0
      },
      "text/plain": [
       "Map:   0%|          | 0/3990 [00:00<?, ? examples/s]"
      ]
     },
     "metadata": {},
     "output_type": "display_data"
    }
   ],
   "source": [
    "t5_sentences_train_ds = build_t5_huggingface_ds(t5_sentences_train, tokenizer)\n",
    "t5_sentences_test_ds = build_t5_huggingface_ds(t5_sentences_test, tokenizer)\n",
    "t5_sentences_valid_ds = build_t5_huggingface_ds(t5_sentences_valid, tokenizer)"
   ]
  },
  {
   "cell_type": "code",
   "execution_count": 9,
   "id": "c25c16ae",
   "metadata": {},
   "outputs": [],
   "source": [
    "from transformers import T5ForConditionalGeneration, Trainer, TrainingArguments\n",
    "\n",
    "model = T5ForConditionalGeneration.from_pretrained(\"t5-base\")\n",
    "# model = T5ForConditionalGeneration.from_pretrained(\"t5-small\")\n",
    "training_args = TrainingArguments(\n",
    "    output_dir=\"./t5_styled_neutral\",\n",
    "    gradient_accumulation_steps=2,\n",
    "    per_device_train_batch_size=8,\n",
    "    per_device_eval_batch_size=8,\n",
    "    num_train_epochs=3,\n",
    "    eval_strategy=\"epoch\",\n",
    "    save_strategy=\"epoch\",\n",
    "    logging_steps=50,\n",
    "    save_total_limit=1,\n",
    "    load_best_model_at_end=True,\n",
    "    metric_for_best_model=\"loss\",\n",
    "    report_to=\"none\"\n",
    ")"
   ]
  },
  {
   "cell_type": "code",
   "execution_count": 10,
   "id": "025acf00",
   "metadata": {},
   "outputs": [],
   "source": [
    "import numpy as np\n",
    "from sklearn.metrics import accuracy_score\n",
    "\n",
    "def compute_metrics(eval_pred):\n",
    "    preds, labels = eval_pred\n",
    "    decoded_preds = tokenizer.batch_decode(preds, skip_special_tokens=True)\n",
    "    decoded_labels = tokenizer.batch_decode(labels, skip_special_tokens=True)\n",
    "    return {\"avg_len\": np.mean([len(p.split()) for p in decoded_preds])}\n"
   ]
  },
  {
   "cell_type": "code",
   "execution_count": 11,
   "id": "6c61613a",
   "metadata": {},
   "outputs": [],
   "source": [
    "t5_sentences_valid_ds_small = t5_sentences_valid_ds.select(range(100))\n",
    "t5_sentences_test_ds_small = t5_sentences_test_ds.select(range(1000))"
   ]
  },
  {
   "cell_type": "code",
   "execution_count": 12,
   "id": "2bb127c1",
   "metadata": {},
   "outputs": [
    {
     "name": "stderr",
     "output_type": "stream",
     "text": [
      "C:\\Users\\Alvis\\AppData\\Local\\Temp\\ipykernel_26280\\2356983071.py:1: FutureWarning: `tokenizer` is deprecated and will be removed in version 5.0.0 for `Trainer.__init__`. Use `processing_class` instead.\n",
      "  trainer = Trainer(\n",
      "Passing a tuple of `past_key_values` is deprecated and will be removed in Transformers v4.48.0. You should pass an instance of `EncoderDecoderCache` instead, e.g. `past_key_values=EncoderDecoderCache.from_legacy_cache(past_key_values)`.\n"
     ]
    },
    {
     "data": {
      "text/html": [
       "\n",
       "    <div>\n",
       "      \n",
       "      <progress value='186' max='186' style='width:300px; height:20px; vertical-align: middle;'></progress>\n",
       "      [186/186 01:58, Epoch 2/3]\n",
       "    </div>\n",
       "    <table border=\"1\" class=\"dataframe\">\n",
       "  <thead>\n",
       " <tr style=\"text-align: left;\">\n",
       "      <th>Epoch</th>\n",
       "      <th>Training Loss</th>\n",
       "      <th>Validation Loss</th>\n",
       "    </tr>\n",
       "  </thead>\n",
       "  <tbody>\n",
       "    <tr>\n",
       "      <td>1</td>\n",
       "      <td>3.612200</td>\n",
       "      <td>0.716267</td>\n",
       "    </tr>\n",
       "    <tr>\n",
       "      <td>2</td>\n",
       "      <td>0.710200</td>\n",
       "      <td>0.591510</td>\n",
       "    </tr>\n",
       "  </tbody>\n",
       "</table><p>"
      ],
      "text/plain": [
       "<IPython.core.display.HTML object>"
      ]
     },
     "metadata": {},
     "output_type": "display_data"
    },
    {
     "name": "stderr",
     "output_type": "stream",
     "text": [
      "There were missing keys in the checkpoint model loaded: ['encoder.embed_tokens.weight', 'decoder.embed_tokens.weight', 'lm_head.weight'].\n"
     ]
    },
    {
     "data": {
      "text/plain": [
       "TrainOutput(global_step=186, training_loss=1.5143428720453733, metrics={'train_runtime': 120.6127, 'train_samples_per_second': 24.873, 'train_steps_per_second': 1.542, 'total_flos': 225314419507200.0, 'train_loss': 1.5143428720453733, 'epoch': 2.96})"
      ]
     },
     "execution_count": 12,
     "metadata": {},
     "output_type": "execute_result"
    }
   ],
   "source": [
    "trainer = Trainer(\n",
    "    model=model.to(\"cuda\"),\n",
    "    args=training_args,\n",
    "    train_dataset=t5_sentences_test_ds_small,\n",
    "    eval_dataset=t5_sentences_valid_ds_small,\n",
    "    tokenizer=tokenizer,\n",
    "    # compute_metrics=compute_metrics,\n",
    "    callbacks=[EarlyStoppingCallback(early_stopping_patience=2)],\n",
    ")\n",
    "\n",
    "trainer.train()"
   ]
  },
  {
   "cell_type": "code",
   "execution_count": 39,
   "id": "63f9ee5d",
   "metadata": {},
   "outputs": [],
   "source": [
    "def generate_neutral(model, tokenizer, styled_sentence, age_label):\n",
    "    prompt = f\"transfer from {age_label} to neutral style: {styled_sentence}\"\n",
    "    inputs = tokenizer(prompt, return_tensors=\"pt\").to(model.device)\n",
    "    outputs = model.generate(**inputs, max_length=64)\n",
    "    return tokenizer.decode(outputs[0], skip_special_tokens=True)\n"
   ]
  },
  {
   "cell_type": "code",
   "execution_count": 41,
   "id": "bbb420d0",
   "metadata": {},
   "outputs": [
    {
     "data": {
      "text/plain": [
       "'i want to go park .'"
      ]
     },
     "execution_count": 41,
     "metadata": {},
     "output_type": "execute_result"
    }
   ],
   "source": [
    "output_sentences = generate_neutral(model, tokenizer, \"I want to go park.\", \"Under12\")\n",
    "output_sentences"
   ]
  },
  {
   "cell_type": "code",
   "execution_count": null,
   "id": "27a8974c",
   "metadata": {},
   "outputs": [],
   "source": []
  }
 ],
 "metadata": {
  "kernelspec": {
   "display_name": "base",
   "language": "python",
   "name": "python3"
  },
  "language_info": {
   "codemirror_mode": {
    "name": "ipython",
    "version": 3
   },
   "file_extension": ".py",
   "mimetype": "text/x-python",
   "name": "python",
   "nbconvert_exporter": "python",
   "pygments_lexer": "ipython3",
   "version": "3.12.4"
  }
 },
 "nbformat": 4,
 "nbformat_minor": 5
}
