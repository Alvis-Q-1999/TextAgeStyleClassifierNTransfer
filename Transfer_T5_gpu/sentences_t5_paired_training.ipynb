{
 "cells": [
  {
   "cell_type": "code",
   "execution_count": null,
   "id": "71eebf77",
   "metadata": {
    "id": "71eebf77"
   },
   "outputs": [],
   "source": [
    "# pip install torch transformers datasets sentencepiece scikit-learn pandas numpy evaluate accelerate\n"
   ]
  },
  {
   "cell_type": "code",
   "execution_count": null,
   "id": "58b13a8f",
   "metadata": {
    "id": "58b13a8f"
   },
   "outputs": [],
   "source": [
    "import pandas as pd\n",
    "import numpy as np\n",
    "from transformers import T5Tokenizer, T5ForConditionalGeneration, EarlyStoppingCallback\n",
    "from datasets import Dataset"
   ]
  },
  {
   "cell_type": "code",
   "execution_count": null,
   "id": "4cd75531",
   "metadata": {
    "id": "4cd75531"
   },
   "outputs": [],
   "source": [
    "in_out_sentences_train = pd.read_csv(\"sentences_train_pairs.csv\")\n",
    "in_out_sentences_test = pd.read_csv(\"sentences_test_pairs.csv\")\n",
    "in_out_sentences_valid = pd.read_csv(\"sentences_valid_pairs.csv\")"
   ]
  },
  {
   "cell_type": "code",
   "execution_count": null,
   "id": "6178a3a0",
   "metadata": {
    "id": "6178a3a0"
   },
   "outputs": [],
   "source": [
    "def build_t5_style_transfer_df(df):\n",
    "    t5_df = pd.DataFrame()\n",
    "\n",
    "    t5_df[\"input_text\"] = \"transfer from \" + df[\"source_age\"] + \" to \" + df[\"target_age\"] + \" style: \" + df[\"source_text\"]\n",
    "    t5_df[\"target_text\"] = df[\"target_text\"]\n",
    "    return t5_df.dropna().reset_index(drop=True)"
   ]
  },
  {
   "cell_type": "code",
   "execution_count": null,
   "id": "693552a4",
   "metadata": {
    "id": "693552a4"
   },
   "outputs": [],
   "source": [
    "t5_sentences_train = build_t5_style_transfer_df(in_out_sentences_train)\n",
    "t5_sentences_test = build_t5_style_transfer_df(in_out_sentences_test)\n",
    "t5_sentences_valid = build_t5_style_transfer_df(in_out_sentences_valid)"
   ]
  },
  {
   "cell_type": "code",
   "execution_count": null,
   "id": "0880cc74",
   "metadata": {
    "id": "0880cc74"
   },
   "outputs": [],
   "source": [
    "t5_sentences_train.head()"
   ]
  },
  {
   "cell_type": "code",
   "execution_count": null,
   "id": "e01acb3f",
   "metadata": {
    "id": "e01acb3f"
   },
   "outputs": [],
   "source": [
    "tokenizer = T5Tokenizer.from_pretrained(\"t5-base\")\n",
    "# tokenizer = T5Tokenizer.from_pretrained(\"t5-small\")\n"
   ]
  },
  {
   "cell_type": "code",
   "execution_count": null,
   "id": "8af268c6",
   "metadata": {
    "id": "8af268c6"
   },
   "outputs": [],
   "source": [
    "\n",
    "def build_t5_huggingface_ds(df, tokenizer):\n",
    "    def tokenize_batch(batch):\n",
    "        return tokenizer(batch[\"input_text\"], padding=\"max_length\", truncation=True, max_length=64)\n",
    "\n",
    "    def tokenize_target(batch):\n",
    "        with tokenizer.as_target_tokenizer():\n",
    "            tokenized = tokenizer(batch[\"target_text\"], padding=\"max_length\", truncation=True, max_length=64)\n",
    "        batch[\"labels\"] = tokenized[\"input_ids\"]\n",
    "        return batch\n",
    "\n",
    "    t5_ds = Dataset.from_pandas(df)\n",
    "    t5_ds = t5_ds.map(tokenize_batch, batched=True)\n",
    "    t5_ds = t5_ds.map(tokenize_target, batched=True)\n",
    "\n",
    "\n",
    "    t5_ds.set_format(type=\"torch\", columns=[\"input_ids\", \"attention_mask\", \"labels\"])\n",
    "\n",
    "    return t5_ds\n"
   ]
  },
  {
   "cell_type": "code",
   "execution_count": null,
   "id": "2329cec2",
   "metadata": {
    "id": "2329cec2"
   },
   "outputs": [],
   "source": [
    "t5_sentences_train_ds = build_t5_huggingface_ds(t5_sentences_train, tokenizer)\n",
    "t5_sentences_test_ds = build_t5_huggingface_ds(t5_sentences_test, tokenizer)\n",
    "t5_sentences_valid_ds = build_t5_huggingface_ds(t5_sentences_valid, tokenizer)"
   ]
  },
  {
   "cell_type": "code",
   "execution_count": null,
   "id": "c25c16ae",
   "metadata": {
    "id": "c25c16ae"
   },
   "outputs": [],
   "source": [
    "from transformers import T5ForConditionalGeneration, Trainer, TrainingArguments\n",
    "\n",
    "model = T5ForConditionalGeneration.from_pretrained(\"t5-base\")\n",
    "# model = T5ForConditionalGeneration.from_pretrained(\"t5-small\")\n",
    "training_args = TrainingArguments(\n",
    "    output_dir=\"./sentences_t5_paired_style_transfer\",\n",
    "    gradient_accumulation_steps=2,\n",
    "    per_device_train_batch_size=8,\n",
    "    per_device_eval_batch_size=8,\n",
    "    num_train_epochs=4,\n",
    "    eval_strategy=\"epoch\",\n",
    "    save_strategy=\"epoch\",\n",
    "    logging_steps=50,\n",
    "    save_total_limit=1,\n",
    "    load_best_model_at_end=True,\n",
    "    metric_for_best_model=\"loss\",\n",
    "    report_to=\"none\"\n",
    ")"
   ]
  },
  {
   "cell_type": "code",
   "execution_count": null,
   "id": "2bb127c1",
   "metadata": {
    "id": "2bb127c1"
   },
   "outputs": [],
   "source": [
    "trainer = Trainer(\n",
    "    model=model.to(\"cuda\"),\n",
    "    args=training_args,\n",
    "    train_dataset=t5_sentences_train_ds,\n",
    "    eval_dataset=t5_sentences_valid_ds,\n",
    "    tokenizer=tokenizer,\n",
    "    callbacks=[EarlyStoppingCallback(early_stopping_patience=2)],\n",
    ")\n",
    "\n",
    "trainer.train()"
   ]
  },
  {
   "cell_type": "code",
   "execution_count": null,
   "id": "63f9ee5d",
   "metadata": {
    "id": "63f9ee5d"
   },
   "outputs": [],
   "source": [
    "def generate_neutral(model, tokenizer, styled_sentence, age_label):\n",
    "    prompt = f\"transfer to {age_label} style: {styled_sentence}\"\n",
    "    inputs = tokenizer(prompt, return_tensors=\"pt\").to(model.device)\n",
    "    outputs = model.generate(**inputs, max_length=64)\n",
    "    return tokenizer.decode(outputs[0], skip_special_tokens=True)\n"
   ]
  },
  {
   "cell_type": "code",
   "execution_count": null,
   "id": "bbb420d0",
   "metadata": {
    "id": "bbb420d0"
   },
   "outputs": [],
   "source": [
    "output_sentences = generate_neutral(model, tokenizer, \"This ice cream is good.\", \"55-74\")\n",
    "output_sentences"
   ]
  },
  {
   "cell_type": "code",
   "execution_count": null,
   "id": "5e0c7a05",
   "metadata": {
    "id": "5e0c7a05"
   },
   "outputs": [],
   "source": [
    "age_group = in_out_sentences_train[\"persona.age\"].unique().tolist()\n",
    "age_group"
   ]
  },
  {
   "cell_type": "code",
   "execution_count": null,
   "id": "27a8974c",
   "metadata": {
    "id": "27a8974c"
   },
   "outputs": [],
   "source": []
  }
 ],
 "metadata": {
  "colab": {
   "provenance": []
  },
  "kernelspec": {
   "display_name": "base",
   "language": "python",
   "name": "python3"
  },
  "language_info": {
   "codemirror_mode": {
    "name": "ipython",
    "version": 3
   },
   "file_extension": ".py",
   "mimetype": "text/x-python",
   "name": "python",
   "nbconvert_exporter": "python",
   "pygments_lexer": "ipython3",
   "version": "3.12.4"
  }
 },
 "nbformat": 4,
 "nbformat_minor": 5
}
